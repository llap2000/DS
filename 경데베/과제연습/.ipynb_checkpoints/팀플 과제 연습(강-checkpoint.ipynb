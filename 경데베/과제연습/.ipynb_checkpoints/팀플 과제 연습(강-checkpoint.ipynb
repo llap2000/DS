{
 "cells": [
  {
   "cell_type": "markdown",
   "metadata": {},
   "source": [
    "## 서울메트로 무임승차 현황과 분석에 따른 조정안 \n",
    "#### Background\n",
    "- 적자가 나면 국민의 세금으로 메꿔야하는 서울교통공사의 적자폭이 해마다 커지고 있다는 사실을 우연히 접하고 심각성을 느꼈다. 그리고 그 원인이 경영성과의 문제가 아니고 해마다 증가하는 노령인구 때문에 무임승차의 비율이 너무 많이 늘어서라는 기사를 읽고 과연 실제로 우리나라의 노년인구의 비중은 어떻게 되어가고 있으며, 실제 승객들중 무임승차의 비율은 얼마나 되는지 궁금증을 느껴 실질적으로 확인하고 대책을 제시하고자 한다.\n",
    "\n",
    "\n",
    "- [100명 중 15명 '무임승차'… 서울 지하철, 손실액 3500억](http://news.hankyung.com/article/2018032127851)\n",
    "- [서울 지하철 65세 이상 무임승차 손실 2040년엔 연 1조원](http://www.yonhapnews.co.kr/bulletin/2017/04/26/0200000000AKR20170426056500004.HTML)\n",
    "- [노인 무임승차가 지하철 적자 주 원인?](http://news.jtbc.joins.com/article/article.aspx?news_id=NB11485154)\n",
    "\n",
    "#### Business Objectives\n",
    "- 서울시 지하철의 일반승객 대비 무임승차 비율을 알아본다.\n",
    "- 현재 무임승차 중 노령인구의 비율을 알아보고, 서울시 인구통계를 통해 앞으로의 추세를 살펴본다.\n",
    "- 이 모두를 분석한 후, 서울지하철의 적자폭을 개선하려면 무임승차 비율을 얼마로 조정해야하는지 확인해본다.\n",
    "\n",
    "#### Business Success Criteria\n",
    "- 노인 지하철 무임승차는 노인 복지차원에서 실행하기도 하므로 단순 손실로 여겨 적자를 완전 줄이는것은 현실적으로 문제가 있다. 그러므로 현 적자규모 중 50%정도를 줄이는것을 목적으로 한다.\n",
    "\n",
    "#### Analysis Goals\n",
    "- 지하철 재무재표, 지하철 무임승차 비율, 서울시 노령인구 추이 등을 분석한 후, 합리적인 경영개선 지표을 목표방안으로 제시"
   ]
  },
  {
   "cell_type": "code",
   "execution_count": 143,
   "metadata": {},
   "outputs": [],
   "source": [
    "#http://pinkwink.kr/959 엑셀 불러오는법 (xlsx)\n",
    "\n",
    "import pandas as pd\n",
    "import numpy as np\n",
    "import matplotlib.pyplot as plt"
   ]
  },
  {
   "cell_type": "code",
   "execution_count": 144,
   "metadata": {},
   "outputs": [],
   "source": [
    "%matplotlib inline"
   ]
  },
  {
   "cell_type": "code",
   "execution_count": 145,
   "metadata": {},
   "outputs": [
    {
     "data": {
      "text/html": [
       "<div>\n",
       "<style scoped>\n",
       "    .dataframe tbody tr th:only-of-type {\n",
       "        vertical-align: middle;\n",
       "    }\n",
       "\n",
       "    .dataframe tbody tr th {\n",
       "        vertical-align: top;\n",
       "    }\n",
       "\n",
       "    .dataframe thead th {\n",
       "        text-align: right;\n",
       "    }\n",
       "</style>\n",
       "<table border=\"1\" class=\"dataframe\">\n",
       "  <thead>\n",
       "    <tr style=\"text-align: right;\">\n",
       "      <th></th>\n",
       "      <th>연도</th>\n",
       "      <th>총 수송인원(천명)</th>\n",
       "      <th>운수수입(백만원)</th>\n",
       "      <th>계(무임수송인원)</th>\n",
       "      <th>노인(천명)</th>\n",
       "      <th>장애인(천명)</th>\n",
       "      <th>유공자(천명)</th>\n",
       "      <th>기본요금(원)</th>\n",
       "    </tr>\n",
       "  </thead>\n",
       "  <tbody>\n",
       "    <tr>\n",
       "      <th>0</th>\n",
       "      <td>2013</td>\n",
       "      <td>2619529</td>\n",
       "      <td>1538879</td>\n",
       "      <td>240321</td>\n",
       "      <td>185426</td>\n",
       "      <td>51158</td>\n",
       "      <td>3737</td>\n",
       "      <td>1050</td>\n",
       "    </tr>\n",
       "    <tr>\n",
       "      <th>1</th>\n",
       "      <td>2014</td>\n",
       "      <td>2660907</td>\n",
       "      <td>1567937</td>\n",
       "      <td>248143</td>\n",
       "      <td>194791</td>\n",
       "      <td>49719</td>\n",
       "      <td>3633</td>\n",
       "      <td>1050</td>\n",
       "    </tr>\n",
       "    <tr>\n",
       "      <th>2</th>\n",
       "      <td>2015</td>\n",
       "      <td>2640527</td>\n",
       "      <td>1667841</td>\n",
       "      <td>249942</td>\n",
       "      <td>198699</td>\n",
       "      <td>47782</td>\n",
       "      <td>3461</td>\n",
       "      <td>1250</td>\n",
       "    </tr>\n",
       "    <tr>\n",
       "      <th>3</th>\n",
       "      <td>2016</td>\n",
       "      <td>2856452</td>\n",
       "      <td>1790798</td>\n",
       "      <td>253566</td>\n",
       "      <td>203837</td>\n",
       "      <td>46349</td>\n",
       "      <td>3380</td>\n",
       "      <td>1250</td>\n",
       "    </tr>\n",
       "    <tr>\n",
       "      <th>4</th>\n",
       "      <td>2017</td>\n",
       "      <td>2654317</td>\n",
       "      <td>1687841</td>\n",
       "      <td>258376</td>\n",
       "      <td>210157</td>\n",
       "      <td>44955</td>\n",
       "      <td>3265</td>\n",
       "      <td>1250</td>\n",
       "    </tr>\n",
       "  </tbody>\n",
       "</table>\n",
       "</div>"
      ],
      "text/plain": [
       "     연도  총 수송인원(천명)  운수수입(백만원)  계(무임수송인원)  노인(천명)  장애인(천명)  유공자(천명)  기본요금(원)\n",
       "0  2013     2619529    1538879     240321  185426    51158     3737     1050\n",
       "1  2014     2660907    1567937     248143  194791    49719     3633     1050\n",
       "2  2015     2640527    1667841     249942  198699    47782     3461     1250\n",
       "3  2016     2856452    1790798     253566  203837    46349     3380     1250\n",
       "4  2017     2654317    1687841     258376  210157    44955     3265     1250"
      ]
     },
     "execution_count": 145,
     "metadata": {},
     "output_type": "execute_result"
    }
   ],
   "source": [
    "y_per=pd.read_excel('The_Performance(13-17).xlsx')\n",
    "y_per.head(6)"
   ]
  },
  {
   "cell_type": "code",
   "execution_count": 146,
   "metadata": {},
   "outputs": [
    {
     "data": {
      "text/html": [
       "<div>\n",
       "<style scoped>\n",
       "    .dataframe tbody tr th:only-of-type {\n",
       "        vertical-align: middle;\n",
       "    }\n",
       "\n",
       "    .dataframe tbody tr th {\n",
       "        vertical-align: top;\n",
       "    }\n",
       "\n",
       "    .dataframe thead th {\n",
       "        text-align: right;\n",
       "    }\n",
       "</style>\n",
       "<table border=\"1\" class=\"dataframe\">\n",
       "  <thead>\n",
       "    <tr style=\"text-align: right;\">\n",
       "      <th></th>\n",
       "      <th>노인(천명)</th>\n",
       "    </tr>\n",
       "    <tr>\n",
       "      <th>연도</th>\n",
       "      <th></th>\n",
       "    </tr>\n",
       "  </thead>\n",
       "  <tbody>\n",
       "    <tr>\n",
       "      <th>2013</th>\n",
       "      <td>185426</td>\n",
       "    </tr>\n",
       "    <tr>\n",
       "      <th>2014</th>\n",
       "      <td>194791</td>\n",
       "    </tr>\n",
       "    <tr>\n",
       "      <th>2015</th>\n",
       "      <td>198699</td>\n",
       "    </tr>\n",
       "    <tr>\n",
       "      <th>2016</th>\n",
       "      <td>203837</td>\n",
       "    </tr>\n",
       "    <tr>\n",
       "      <th>2017</th>\n",
       "      <td>210157</td>\n",
       "    </tr>\n",
       "  </tbody>\n",
       "</table>\n",
       "</div>"
      ],
      "text/plain": [
       "      노인(천명)\n",
       "연도          \n",
       "2013  185426\n",
       "2014  194791\n",
       "2015  198699\n",
       "2016  203837\n",
       "2017  210157"
      ]
     },
     "execution_count": 146,
     "metadata": {},
     "output_type": "execute_result"
    }
   ],
   "source": [
    "# 여기서 필요한 데이터인 노인 무임승차 인원에 대한 정보만 가져오도록 하자.\n",
    "table=pd.read_excel('The_Performance(13-17).xlsx',\n",
    "                   header =0,\n",
    "                   index_col=0,\n",
    "                   usecols=\"A,E\",\n",
    "                   convert_float = True)\n",
    "table.head()"
   ]
  },
  {
   "cell_type": "markdown",
   "metadata": {},
   "source": [
    "위와 같이 노인무임승차자 수가꾸준한 증가폭을 나타내는것을 알수 있다. 그렇지만 눈에 더 잘띄도록 그래프 형식으로 나타내보자"
   ]
  },
  {
   "cell_type": "code",
   "execution_count": 147,
   "metadata": {},
   "outputs": [],
   "source": [
    "%matplotlib inline\n",
    "import pandas as pd                \n",
    "import matplotlib as mpl          \n",
    "import matplotlib.pyplot as plt   "
   ]
  },
  {
   "cell_type": "code",
   "execution_count": 148,
   "metadata": {},
   "outputs": [
    {
     "data": {
      "text/plain": [
       "<matplotlib.legend.Legend at 0x188c99d1128>"
      ]
     },
     "execution_count": 148,
     "metadata": {},
     "output_type": "execute_result"
    },
    {
     "data": {
      "image/png": "[encoded data removed]",
      "text/plain": [
       "<Figure size 864x288 with 1 Axes>"
      ]
     },
     "metadata": {},
     "output_type": "display_data"
    }
   ],
   "source": [
    "font_name = mpl.font_manager.FontProperties(fname='C:/Windows/Fonts/malgun.ttf').get_name()\n",
    "mpl.rc('font', family=font_name)\n",
    " \n",
    "ax = T.plot(kind='bar', title='노인 무임승차자의 변화추이', figsize=(12, 4), legend=True, fontsize=12)\n",
    "ax.set_xlabel('연도', fontsize=12)        \n",
    "ax.set_ylabel('노인 무임승차 횟수', fontsize=12)    \n",
    "ax.set_ylim(180000,215000)\n",
    "ax.legend(['노인 무임승차자'], fontsize=12)  "
   ]
  },
  {
   "cell_type": "markdown",
   "metadata": {},
   "source": [
    "노인 무임승차자는 확연하게 증가하는것을 알았으니, 이제 도시교통공사의 손익계산서도 살펴보자."
   ]
  },
  {
   "cell_type": "code",
   "execution_count": 1,
   "metadata": {},
   "outputs": [
    {
     "ename": "NameError",
     "evalue": "name 'pd' is not defined",
     "output_type": "error",
     "traceback": [
      "\u001b[1;31m---------------------------------------------------------------------------\u001b[0m",
      "\u001b[1;31mNameError\u001b[0m                                 Traceback (most recent call last)",
      "\u001b[1;32m<ipython-input-1-e1446e736f67>\u001b[0m in \u001b[0;36m<module>\u001b[1;34m()\u001b[0m\n\u001b[1;32m----> 1\u001b[1;33m \u001b[0mdata\u001b[0m\u001b[1;33m=\u001b[0m\u001b[0mpd\u001b[0m\u001b[1;33m.\u001b[0m\u001b[0mread_excel\u001b[0m\u001b[1;33m(\u001b[0m\u001b[1;34m'Seoul_financial.xlsx'\u001b[0m\u001b[1;33m)\u001b[0m\u001b[1;33m\u001b[0m\u001b[0m\n\u001b[0m\u001b[0;32m      2\u001b[0m \u001b[0mdata\u001b[0m\u001b[1;33m.\u001b[0m\u001b[0mhead\u001b[0m\u001b[1;33m(\u001b[0m\u001b[1;36m6\u001b[0m\u001b[1;33m)\u001b[0m\u001b[1;33m\u001b[0m\u001b[0m\n",
      "\u001b[1;31mNameError\u001b[0m: name 'pd' is not defined"
     ]
    }
   ],
   "source": [
    "data=pd.read_excel('Seoul_financial.xlsx')\n",
    "data.head(6)"
   ]
  },
  {
   "cell_type": "code",
   "execution_count": 2,
   "metadata": {},
   "outputs": [
    {
     "ename": "NameError",
     "evalue": "name 'plt' is not defined",
     "output_type": "error",
     "traceback": [
      "\u001b[1;31m---------------------------------------------------------------------------\u001b[0m",
      "\u001b[1;31mNameError\u001b[0m                                 Traceback (most recent call last)",
      "\u001b[1;32m<ipython-input-2-5a4611d74f46>\u001b[0m in \u001b[0;36m<module>\u001b[1;34m()\u001b[0m\n\u001b[1;32m----> 1\u001b[1;33m \u001b[0mplt\u001b[0m\u001b[1;33m.\u001b[0m\u001b[0mfigure\u001b[0m\u001b[1;33m(\u001b[0m\u001b[0mfigsize\u001b[0m\u001b[1;33m=\u001b[0m\u001b[1;33m(\u001b[0m\u001b[1;36m10\u001b[0m\u001b[1;33m,\u001b[0m\u001b[1;36m4\u001b[0m\u001b[1;33m)\u001b[0m\u001b[1;33m)\u001b[0m\u001b[1;33m\u001b[0m\u001b[0m\n\u001b[0m\u001b[0;32m      2\u001b[0m \u001b[0mplt\u001b[0m\u001b[1;33m.\u001b[0m\u001b[0mplot\u001b[0m\u001b[1;33m(\u001b[0m\u001b[0mdata\u001b[0m\u001b[1;33m.\u001b[0m\u001b[0mYear\u001b[0m\u001b[1;33m,\u001b[0m \u001b[0mdata\u001b[0m\u001b[1;33m.\u001b[0m\u001b[0mNetLoss\u001b[0m\u001b[1;33m,\u001b[0m \u001b[0mlabel\u001b[0m\u001b[1;33m=\u001b[0m\u001b[1;34m'당기순손익'\u001b[0m\u001b[1;33m)\u001b[0m\u001b[1;33m\u001b[0m\u001b[0m\n\u001b[0;32m      3\u001b[0m \u001b[0mplt\u001b[0m\u001b[1;33m.\u001b[0m\u001b[0mxlabel\u001b[0m\u001b[1;33m(\u001b[0m\u001b[1;34m'연도'\u001b[0m\u001b[1;33m)\u001b[0m\u001b[1;33m\u001b[0m\u001b[0m\n\u001b[0;32m      4\u001b[0m \u001b[0mplt\u001b[0m\u001b[1;33m.\u001b[0m\u001b[0mylabel\u001b[0m\u001b[1;33m(\u001b[0m\u001b[1;34m'당기순손실'\u001b[0m\u001b[1;33m)\u001b[0m\u001b[1;33m\u001b[0m\u001b[0m\n\u001b[0;32m      5\u001b[0m \u001b[0mplt\u001b[0m\u001b[1;33m.\u001b[0m\u001b[0mtitle\u001b[0m\u001b[1;33m(\u001b[0m\u001b[1;34m'연도별 당기순손실 변화'\u001b[0m\u001b[1;33m)\u001b[0m\u001b[1;33m\u001b[0m\u001b[0m\n",
      "\u001b[1;31mNameError\u001b[0m: name 'plt' is not defined"
     ]
    }
   ],
   "source": [
    "plt.figure(figsize=(10,4))\n",
    "plt.plot(data.Year, data.NetLoss, label='당기순손익')\n",
    "plt.xlabel('연도')\n",
    "plt.ylabel('당기순손실')\n",
    "plt.title('연도별 당기순손실 변화')\n",
    "plt.grid()\n",
    "plt.legend()\n",
    "plt.xlim()\n",
    "plt.ylim(-550000000000,-350000000000)\n",
    "plt.show()"
   ]
  },
  {
   "cell_type": "code",
   "execution_count": 149,
   "metadata": {},
   "outputs": [
    {
     "data": {
      "text/html": [
       "<div>\n",
       "<style scoped>\n",
       "    .dataframe tbody tr th:only-of-type {\n",
       "        vertical-align: middle;\n",
       "    }\n",
       "\n",
       "    .dataframe tbody tr th {\n",
       "        vertical-align: top;\n",
       "    }\n",
       "\n",
       "    .dataframe thead th {\n",
       "        text-align: right;\n",
       "    }\n",
       "</style>\n",
       "<table border=\"1\" class=\"dataframe\">\n",
       "  <thead>\n",
       "    <tr style=\"text-align: right;\">\n",
       "      <th></th>\n",
       "      <th>연도</th>\n",
       "      <th>당기순손익</th>\n",
       "    </tr>\n",
       "  </thead>\n",
       "  <tbody>\n",
       "    <tr>\n",
       "      <th>0</th>\n",
       "      <td>2013</td>\n",
       "      <td>-417190655022</td>\n",
       "    </tr>\n",
       "    <tr>\n",
       "      <th>1</th>\n",
       "      <td>2014</td>\n",
       "      <td>-424530357000</td>\n",
       "    </tr>\n",
       "    <tr>\n",
       "      <th>2</th>\n",
       "      <td>2015</td>\n",
       "      <td>-413708634691</td>\n",
       "    </tr>\n",
       "    <tr>\n",
       "      <th>3</th>\n",
       "      <td>2016</td>\n",
       "      <td>-385048147441</td>\n",
       "    </tr>\n",
       "    <tr>\n",
       "      <th>4</th>\n",
       "      <td>2017</td>\n",
       "      <td>-525362473465</td>\n",
       "    </tr>\n",
       "  </tbody>\n",
       "</table>\n",
       "</div>"
      ],
      "text/plain": [
       "     연도         당기순손익\n",
       "0  2013 -417190655022\n",
       "1  2014 -424530357000\n",
       "2  2015 -413708634691\n",
       "3  2016 -385048147441\n",
       "4  2017 -525362473465"
      ]
     },
     "execution_count": 149,
     "metadata": {},
     "output_type": "execute_result"
    }
   ],
   "source": [
    "y_fin=pd.read_excel('Seoul_financial.xlsx')\n",
    "y_fin.head(6)"
   ]
  },
  {
   "cell_type": "markdown",
   "metadata": {},
   "source": [
    "이것 역시 가독성이 좋게 그래프로 변환해 보자."
   ]
  },
  {
   "cell_type": "code",
   "execution_count": 150,
   "metadata": {},
   "outputs": [
    {
     "data": {
      "text/html": [
       "<div>\n",
       "<style scoped>\n",
       "    .dataframe tbody tr th:only-of-type {\n",
       "        vertical-align: middle;\n",
       "    }\n",
       "\n",
       "    .dataframe tbody tr th {\n",
       "        vertical-align: top;\n",
       "    }\n",
       "\n",
       "    .dataframe thead th {\n",
       "        text-align: right;\n",
       "    }\n",
       "</style>\n",
       "<table border=\"1\" class=\"dataframe\">\n",
       "  <thead>\n",
       "    <tr style=\"text-align: right;\">\n",
       "      <th></th>\n",
       "      <th>당기순손익</th>\n",
       "    </tr>\n",
       "    <tr>\n",
       "      <th>연도</th>\n",
       "      <th></th>\n",
       "    </tr>\n",
       "  </thead>\n",
       "  <tbody>\n",
       "    <tr>\n",
       "      <th>2013</th>\n",
       "      <td>-417190655022</td>\n",
       "    </tr>\n",
       "    <tr>\n",
       "      <th>2014</th>\n",
       "      <td>-424530357000</td>\n",
       "    </tr>\n",
       "    <tr>\n",
       "      <th>2015</th>\n",
       "      <td>-413708634691</td>\n",
       "    </tr>\n",
       "    <tr>\n",
       "      <th>2016</th>\n",
       "      <td>-385048147441</td>\n",
       "    </tr>\n",
       "    <tr>\n",
       "      <th>2017</th>\n",
       "      <td>-525362473465</td>\n",
       "    </tr>\n",
       "  </tbody>\n",
       "</table>\n",
       "</div>"
      ],
      "text/plain": [
       "             당기순손익\n",
       "연도                \n",
       "2013 -417190655022\n",
       "2014 -424530357000\n",
       "2015 -413708634691\n",
       "2016 -385048147441\n",
       "2017 -525362473465"
      ]
     },
     "execution_count": 150,
     "metadata": {},
     "output_type": "execute_result"
    }
   ],
   "source": [
    "y_fin=pd.read_excel('Seoul_financial.xlsx',\n",
    "                   header =0,\n",
    "                   index_col=0,\n",
    "                   usecols=\"A,B\",\n",
    "                   convert_float = True)\n",
    "y_fin"
   ]
  },
  {
   "cell_type": "code",
   "execution_count": 151,
   "metadata": {},
   "outputs": [
    {
     "data": {
      "text/plain": [
       "<matplotlib.legend.Legend at 0x188c99e15c0>"
      ]
     },
     "execution_count": 151,
     "metadata": {},
     "output_type": "execute_result"
    },
    {
     "data": {
      "image/png": "[encoded data removed]",
      "text/plain": [
       "<Figure size 864x288 with 1 Axes>"
      ]
     },
     "metadata": {},
     "output_type": "display_data"
    }
   ],
   "source": [
    "ax = y_fin.plot(kind='bar', title='도로교통공사 손실액', figsize=(12, 4), legend=True, fontsize=12, color='r')\n",
    "ax.set_xlabel('연도', fontsize=12)        \n",
    "ax.set_ylabel('당기순손실 (원)', fontsize=12)    \n",
    "ax.set_ylim(-530000000000,-370000000000)\n",
    "ax.legend(['도로교통공사 손실'], fontsize=12)  "
   ]
  },
  {
   "cell_type": "markdown",
   "metadata": {},
   "source": [
    "이제 이 두개를 한번 합쳐, 눈에 잘 들어오게 표시해보자."
   ]
  },
  {
   "cell_type": "code",
   "execution_count": 152,
   "metadata": {},
   "outputs": [
    {
     "data": {
      "image/png": "[encoded data removed]",
      "text/plain": [
       "<Figure size 432x288 with 2 Axes>"
      ]
     },
     "metadata": {},
     "output_type": "display_data"
    }
   ],
   "source": [
    "import numpy as np\n",
    "import matplotlib.pyplot as plt\n",
    "\n",
    "\n",
    "y1_value = (185426,194791,198699,203837,210157)\n",
    "x_name=('2013','2014','2015','2016','2017')\n",
    "n_groups = len(x_name)\n",
    "\n",
    "index = np.arange(n_groups)\n",
    "bar_width = 0.4\n",
    "\n",
    "plt.bar(index, y1_value, bar_width,\n",
    "        tick_label=x_name, align='center',\n",
    "        color='blue')\n",
    "\n",
    "plt.xlabel('연도')\n",
    "plt.ylabel('노인 무임승차자 (명)')\n",
    "plt.title('서울도로교통공사')\n",
    "plt.xlim( -1, n_groups)\n",
    "plt.ylim(180000,215000)\n",
    "\n",
    "# twin axis ....\n",
    "plt.twinx()\n",
    "y2_value = (-417190655022,-424530357000,-413708634691,-385048147441,-525362473465)\n",
    "plt.plot(index, y2_value, 'r.-')\n",
    "plt.ylabel('도로교통공사 손실액 (원)')\n",
    "plt.ylim(-370000000000,-530000000000)\n",
    "\n",
    "plt.show()"
   ]
  },
  {
   "cell_type": "markdown",
   "metadata": {},
   "source": [
    "노인무임승차는 꾸준히 증가하는데 비해 도로교통공사의 당기순손실액은 줄어들었다가 다시 늘어나는 경향을 보인다. \n",
    "왜 그런지 한번 알아보자"
   ]
  },
  {
   "cell_type": "markdown",
   "metadata": {},
   "source": [
    "-![연도별 지하철 요금](지하철 요금 변동.jpg)\n",
    "\n",
    "\n",
    "\n",
    "찾아보니 2015년 6월에 기본요금이 1050원에서 1250원으로 200원, 약 20%가 증가하여 무임승차 인원이 증가함에도 불구하고 일시적 재무성과 개선이 있는것으로 파악되었다."
   ]
  },
  {
   "cell_type": "markdown",
   "metadata": {},
   "source": [
    "#### 따라서 매스컴의 보도가 일리가 있는 것으로 확인된다. 그렇다면 현재 노인인구(65세 이상)의 현황은 어떻게 되는가?"
   ]
  },
  {
   "cell_type": "markdown",
   "metadata": {},
   "source": [
    "- 서울시의 65세 이상인구를 불러와보도록 한다."
   ]
  },
  {
   "cell_type": "code",
   "execution_count": 153,
   "metadata": {},
   "outputs": [
    {
     "data": {
      "text/html": [
       "<div>\n",
       "<style scoped>\n",
       "    .dataframe tbody tr th:only-of-type {\n",
       "        vertical-align: middle;\n",
       "    }\n",
       "\n",
       "    .dataframe tbody tr th {\n",
       "        vertical-align: top;\n",
       "    }\n",
       "\n",
       "    .dataframe thead th {\n",
       "        text-align: right;\n",
       "    }\n",
       "</style>\n",
       "<table border=\"1\" class=\"dataframe\">\n",
       "  <thead>\n",
       "    <tr style=\"text-align: right;\">\n",
       "      <th></th>\n",
       "      <th>연도</th>\n",
       "      <th>65세</th>\n",
       "      <th>66세</th>\n",
       "      <th>67세</th>\n",
       "      <th>68세</th>\n",
       "      <th>69세</th>\n",
       "      <th>70세</th>\n",
       "      <th>71세</th>\n",
       "      <th>72세</th>\n",
       "      <th>73세</th>\n",
       "      <th>74세</th>\n",
       "      <th>75세</th>\n",
       "      <th>76세</th>\n",
       "      <th>77세</th>\n",
       "      <th>78세</th>\n",
       "      <th>79세</th>\n",
       "      <th>80~89세</th>\n",
       "      <th>90~99세</th>\n",
       "      <th>100세 이상</th>\n",
       "    </tr>\n",
       "  </thead>\n",
       "  <tbody>\n",
       "    <tr>\n",
       "      <th>0</th>\n",
       "      <td>2013</td>\n",
       "      <td>96948</td>\n",
       "      <td>99381</td>\n",
       "      <td>80330</td>\n",
       "      <td>71025</td>\n",
       "      <td>71913</td>\n",
       "      <td>70798</td>\n",
       "      <td>84397</td>\n",
       "      <td>67721</td>\n",
       "      <td>58019</td>\n",
       "      <td>57326</td>\n",
       "      <td>50202</td>\n",
       "      <td>45327</td>\n",
       "      <td>41164</td>\n",
       "      <td>38703</td>\n",
       "      <td>32792</td>\n",
       "      <td>158807</td>\n",
       "      <td>22882</td>\n",
       "      <td>603</td>\n",
       "    </tr>\n",
       "    <tr>\n",
       "      <th>1</th>\n",
       "      <td>2014</td>\n",
       "      <td>96354</td>\n",
       "      <td>95181</td>\n",
       "      <td>97469</td>\n",
       "      <td>78719</td>\n",
       "      <td>69544</td>\n",
       "      <td>70375</td>\n",
       "      <td>69173</td>\n",
       "      <td>82269</td>\n",
       "      <td>65960</td>\n",
       "      <td>56411</td>\n",
       "      <td>55563</td>\n",
       "      <td>48596</td>\n",
       "      <td>43781</td>\n",
       "      <td>39642</td>\n",
       "      <td>37078</td>\n",
       "      <td>171502</td>\n",
       "      <td>24165</td>\n",
       "      <td>671</td>\n",
       "    </tr>\n",
       "    <tr>\n",
       "      <th>2</th>\n",
       "      <td>2015</td>\n",
       "      <td>93155</td>\n",
       "      <td>94226</td>\n",
       "      <td>93095</td>\n",
       "      <td>95131</td>\n",
       "      <td>76905</td>\n",
       "      <td>67767</td>\n",
       "      <td>68503</td>\n",
       "      <td>67211</td>\n",
       "      <td>79812</td>\n",
       "      <td>64075</td>\n",
       "      <td>54571</td>\n",
       "      <td>53650</td>\n",
       "      <td>46780</td>\n",
       "      <td>42051</td>\n",
       "      <td>37947</td>\n",
       "      <td>192801</td>\n",
       "      <td>29719</td>\n",
       "      <td>5037</td>\n",
       "    </tr>\n",
       "    <tr>\n",
       "      <th>3</th>\n",
       "      <td>2016</td>\n",
       "      <td>81961</td>\n",
       "      <td>91255</td>\n",
       "      <td>92072</td>\n",
       "      <td>90835</td>\n",
       "      <td>92833</td>\n",
       "      <td>75089</td>\n",
       "      <td>65982</td>\n",
       "      <td>66730</td>\n",
       "      <td>65391</td>\n",
       "      <td>77388</td>\n",
       "      <td>62084</td>\n",
       "      <td>52772</td>\n",
       "      <td>51775</td>\n",
       "      <td>44952</td>\n",
       "      <td>40378</td>\n",
       "      <td>207716</td>\n",
       "      <td>31211</td>\n",
       "      <td>5475</td>\n",
       "    </tr>\n",
       "    <tr>\n",
       "      <th>4</th>\n",
       "      <td>2017</td>\n",
       "      <td>114400</td>\n",
       "      <td>80233</td>\n",
       "      <td>89224</td>\n",
       "      <td>89871</td>\n",
       "      <td>88753</td>\n",
       "      <td>90591</td>\n",
       "      <td>73185</td>\n",
       "      <td>64285</td>\n",
       "      <td>64933</td>\n",
       "      <td>63515</td>\n",
       "      <td>74898</td>\n",
       "      <td>60021</td>\n",
       "      <td>50860</td>\n",
       "      <td>49861</td>\n",
       "      <td>43160</td>\n",
       "      <td>223113</td>\n",
       "      <td>33479</td>\n",
       "      <td>5519</td>\n",
       "    </tr>\n",
       "  </tbody>\n",
       "</table>\n",
       "</div>"
      ],
      "text/plain": [
       "     연도     65세    66세    67세    68세    69세    70세    71세    72세    73세  \\\n",
       "0  2013   96948  99381  80330  71025  71913  70798  84397  67721  58019   \n",
       "1  2014   96354  95181  97469  78719  69544  70375  69173  82269  65960   \n",
       "2  2015   93155  94226  93095  95131  76905  67767  68503  67211  79812   \n",
       "3  2016   81961  91255  92072  90835  92833  75089  65982  66730  65391   \n",
       "4  2017  114400  80233  89224  89871  88753  90591  73185  64285  64933   \n",
       "\n",
       "     74세    75세    76세    77세    78세    79세  80~89세  90~99세  100세 이상  \n",
       "0  57326  50202  45327  41164  38703  32792  158807   22882      603  \n",
       "1  56411  55563  48596  43781  39642  37078  171502   24165      671  \n",
       "2  64075  54571  53650  46780  42051  37947  192801   29719     5037  \n",
       "3  77388  62084  52772  51775  44952  40378  207716   31211     5475  \n",
       "4  63515  74898  60021  50860  49861  43160  223113   33479     5519  "
      ]
     },
     "execution_count": 153,
     "metadata": {},
     "output_type": "execute_result"
    }
   ],
   "source": [
    "y_pop=pd.read_excel('Seoul_Pop_detail(13-17).xlsx')\n",
    "y_pop.head(6)"
   ]
  },
  {
   "cell_type": "markdown",
   "metadata": {},
   "source": [
    "- 이렇게 확인해서는 연도별 노인인구 수를 확인하기 어려우므로 연도별로 다 더해보자"
   ]
  },
  {
   "cell_type": "code",
   "execution_count": 154,
   "metadata": {},
   "outputs": [
    {
     "data": {
      "text/html": [
       "<div>\n",
       "<style scoped>\n",
       "    .dataframe tbody tr th:only-of-type {\n",
       "        vertical-align: middle;\n",
       "    }\n",
       "\n",
       "    .dataframe tbody tr th {\n",
       "        vertical-align: top;\n",
       "    }\n",
       "\n",
       "    .dataframe thead th {\n",
       "        text-align: right;\n",
       "    }\n",
       "</style>\n",
       "<table border=\"1\" class=\"dataframe\">\n",
       "  <thead>\n",
       "    <tr style=\"text-align: right;\">\n",
       "      <th></th>\n",
       "      <th>연도</th>\n",
       "      <th>65세</th>\n",
       "      <th>66세</th>\n",
       "      <th>67세</th>\n",
       "      <th>68세</th>\n",
       "      <th>69세</th>\n",
       "      <th>70세</th>\n",
       "      <th>71세</th>\n",
       "      <th>72세</th>\n",
       "      <th>73세</th>\n",
       "      <th>74세</th>\n",
       "      <th>75세</th>\n",
       "      <th>76세</th>\n",
       "      <th>77세</th>\n",
       "      <th>78세</th>\n",
       "      <th>79세</th>\n",
       "      <th>80~89세</th>\n",
       "      <th>90~99세</th>\n",
       "      <th>100세 이상</th>\n",
       "      <th>노인인구합</th>\n",
       "    </tr>\n",
       "  </thead>\n",
       "  <tbody>\n",
       "    <tr>\n",
       "      <th>0</th>\n",
       "      <td>2013</td>\n",
       "      <td>96948</td>\n",
       "      <td>99381</td>\n",
       "      <td>80330</td>\n",
       "      <td>71025</td>\n",
       "      <td>71913</td>\n",
       "      <td>70798</td>\n",
       "      <td>84397</td>\n",
       "      <td>67721</td>\n",
       "      <td>58019</td>\n",
       "      <td>57326</td>\n",
       "      <td>50202</td>\n",
       "      <td>45327</td>\n",
       "      <td>41164</td>\n",
       "      <td>38703</td>\n",
       "      <td>32792</td>\n",
       "      <td>158807</td>\n",
       "      <td>22882</td>\n",
       "      <td>603</td>\n",
       "      <td>1148338</td>\n",
       "    </tr>\n",
       "    <tr>\n",
       "      <th>1</th>\n",
       "      <td>2014</td>\n",
       "      <td>96354</td>\n",
       "      <td>95181</td>\n",
       "      <td>97469</td>\n",
       "      <td>78719</td>\n",
       "      <td>69544</td>\n",
       "      <td>70375</td>\n",
       "      <td>69173</td>\n",
       "      <td>82269</td>\n",
       "      <td>65960</td>\n",
       "      <td>56411</td>\n",
       "      <td>55563</td>\n",
       "      <td>48596</td>\n",
       "      <td>43781</td>\n",
       "      <td>39642</td>\n",
       "      <td>37078</td>\n",
       "      <td>171502</td>\n",
       "      <td>24165</td>\n",
       "      <td>671</td>\n",
       "      <td>1202453</td>\n",
       "    </tr>\n",
       "    <tr>\n",
       "      <th>2</th>\n",
       "      <td>2015</td>\n",
       "      <td>93155</td>\n",
       "      <td>94226</td>\n",
       "      <td>93095</td>\n",
       "      <td>95131</td>\n",
       "      <td>76905</td>\n",
       "      <td>67767</td>\n",
       "      <td>68503</td>\n",
       "      <td>67211</td>\n",
       "      <td>79812</td>\n",
       "      <td>64075</td>\n",
       "      <td>54571</td>\n",
       "      <td>53650</td>\n",
       "      <td>46780</td>\n",
       "      <td>42051</td>\n",
       "      <td>37947</td>\n",
       "      <td>192801</td>\n",
       "      <td>29719</td>\n",
       "      <td>5037</td>\n",
       "      <td>1262436</td>\n",
       "    </tr>\n",
       "    <tr>\n",
       "      <th>3</th>\n",
       "      <td>2016</td>\n",
       "      <td>81961</td>\n",
       "      <td>91255</td>\n",
       "      <td>92072</td>\n",
       "      <td>90835</td>\n",
       "      <td>92833</td>\n",
       "      <td>75089</td>\n",
       "      <td>65982</td>\n",
       "      <td>66730</td>\n",
       "      <td>65391</td>\n",
       "      <td>77388</td>\n",
       "      <td>62084</td>\n",
       "      <td>52772</td>\n",
       "      <td>51775</td>\n",
       "      <td>44952</td>\n",
       "      <td>40378</td>\n",
       "      <td>207716</td>\n",
       "      <td>31211</td>\n",
       "      <td>5475</td>\n",
       "      <td>1295899</td>\n",
       "    </tr>\n",
       "    <tr>\n",
       "      <th>4</th>\n",
       "      <td>2017</td>\n",
       "      <td>114400</td>\n",
       "      <td>80233</td>\n",
       "      <td>89224</td>\n",
       "      <td>89871</td>\n",
       "      <td>88753</td>\n",
       "      <td>90591</td>\n",
       "      <td>73185</td>\n",
       "      <td>64285</td>\n",
       "      <td>64933</td>\n",
       "      <td>63515</td>\n",
       "      <td>74898</td>\n",
       "      <td>60021</td>\n",
       "      <td>50860</td>\n",
       "      <td>49861</td>\n",
       "      <td>43160</td>\n",
       "      <td>223113</td>\n",
       "      <td>33479</td>\n",
       "      <td>5519</td>\n",
       "      <td>1359901</td>\n",
       "    </tr>\n",
       "  </tbody>\n",
       "</table>\n",
       "</div>"
      ],
      "text/plain": [
       "     연도     65세    66세    67세    68세    69세    70세    71세    72세    73세  \\\n",
       "0  2013   96948  99381  80330  71025  71913  70798  84397  67721  58019   \n",
       "1  2014   96354  95181  97469  78719  69544  70375  69173  82269  65960   \n",
       "2  2015   93155  94226  93095  95131  76905  67767  68503  67211  79812   \n",
       "3  2016   81961  91255  92072  90835  92833  75089  65982  66730  65391   \n",
       "4  2017  114400  80233  89224  89871  88753  90591  73185  64285  64933   \n",
       "\n",
       "     74세    75세    76세    77세    78세    79세  80~89세  90~99세  100세 이상    노인인구합  \n",
       "0  57326  50202  45327  41164  38703  32792  158807   22882      603  1148338  \n",
       "1  56411  55563  48596  43781  39642  37078  171502   24165      671  1202453  \n",
       "2  64075  54571  53650  46780  42051  37947  192801   29719     5037  1262436  \n",
       "3  77388  62084  52772  51775  44952  40378  207716   31211     5475  1295899  \n",
       "4  63515  74898  60021  50860  49861  43160  223113   33479     5519  1359901  "
      ]
     },
     "execution_count": 154,
     "metadata": {},
     "output_type": "execute_result"
    }
   ],
   "source": [
    "y_pop[\"노인인구합\"] = (y_pop['65세']+y_pop['66세']+y_pop['67세']+y_pop['68세']+y_pop['69세']+y_pop['70세']+y_pop['71세']+y_pop['72세']+y_pop['73세']+y_pop['74세']+y_pop['75세']+y_pop['76세']+y_pop['77세']+y_pop['78세']+y_pop['79세']+y_pop['80~89세']+y_pop['90~99세']+y_pop['100세 이상'])\n",
    "y_pop.head(6)"
   ]
  },
  {
   "cell_type": "markdown",
   "metadata": {},
   "source": [
    "- 이것 역시 필요한 열만 사용해보자"
   ]
  },
  {
   "cell_type": "code",
   "execution_count": 164,
   "metadata": {},
   "outputs": [
    {
     "data": {
      "text/html": [
       "<div>\n",
       "<style scoped>\n",
       "    .dataframe tbody tr th:only-of-type {\n",
       "        vertical-align: middle;\n",
       "    }\n",
       "\n",
       "    .dataframe tbody tr th {\n",
       "        vertical-align: top;\n",
       "    }\n",
       "\n",
       "    .dataframe thead th {\n",
       "        text-align: right;\n",
       "    }\n",
       "</style>\n",
       "<table border=\"1\" class=\"dataframe\">\n",
       "  <thead>\n",
       "    <tr style=\"text-align: right;\">\n",
       "      <th></th>\n",
       "      <th>연도</th>\n",
       "      <th>노인인구합</th>\n",
       "    </tr>\n",
       "  </thead>\n",
       "  <tbody>\n",
       "    <tr>\n",
       "      <th>0</th>\n",
       "      <td>2013</td>\n",
       "      <td>1148338</td>\n",
       "    </tr>\n",
       "    <tr>\n",
       "      <th>1</th>\n",
       "      <td>2014</td>\n",
       "      <td>1202453</td>\n",
       "    </tr>\n",
       "    <tr>\n",
       "      <th>2</th>\n",
       "      <td>2015</td>\n",
       "      <td>1262436</td>\n",
       "    </tr>\n",
       "    <tr>\n",
       "      <th>3</th>\n",
       "      <td>2016</td>\n",
       "      <td>1295899</td>\n",
       "    </tr>\n",
       "    <tr>\n",
       "      <th>4</th>\n",
       "      <td>2017</td>\n",
       "      <td>1359901</td>\n",
       "    </tr>\n",
       "  </tbody>\n",
       "</table>\n",
       "</div>"
      ],
      "text/plain": [
       "     연도    노인인구합\n",
       "0  2013  1148338\n",
       "1  2014  1202453\n",
       "2  2015  1262436\n",
       "3  2016  1295899\n",
       "4  2017  1359901"
      ]
     },
     "execution_count": 164,
     "metadata": {},
     "output_type": "execute_result"
    }
   ],
   "source": [
    "from pandas import Series, DataFrame\n",
    "import pandas as pd\n",
    "frame =DataFrame(y_pop, columns = ['연도', '노인인구합'])\n",
    "frame"
   ]
  },
  {
   "cell_type": "markdown",
   "metadata": {},
   "source": [
    "- 우리는 노인인구와 무임승차인원의 상관관계를 보고싶기에 일단 두 데이터를 합쳐본다."
   ]
  },
  {
   "cell_type": "code",
   "execution_count": 165,
   "metadata": {},
   "outputs": [
    {
     "data": {
      "text/html": [
       "<div>\n",
       "<style scoped>\n",
       "    .dataframe tbody tr th:only-of-type {\n",
       "        vertical-align: middle;\n",
       "    }\n",
       "\n",
       "    .dataframe tbody tr th {\n",
       "        vertical-align: top;\n",
       "    }\n",
       "\n",
       "    .dataframe thead th {\n",
       "        text-align: right;\n",
       "    }\n",
       "</style>\n",
       "<table border=\"1\" class=\"dataframe\">\n",
       "  <thead>\n",
       "    <tr style=\"text-align: right;\">\n",
       "      <th></th>\n",
       "      <th>연도</th>\n",
       "      <th>계(무임수송인원)</th>\n",
       "      <th>노인인구합</th>\n",
       "    </tr>\n",
       "  </thead>\n",
       "  <tbody>\n",
       "    <tr>\n",
       "      <th>0</th>\n",
       "      <td>2013</td>\n",
       "      <td>240321</td>\n",
       "      <td>1148338</td>\n",
       "    </tr>\n",
       "    <tr>\n",
       "      <th>1</th>\n",
       "      <td>2014</td>\n",
       "      <td>248143</td>\n",
       "      <td>1202453</td>\n",
       "    </tr>\n",
       "    <tr>\n",
       "      <th>2</th>\n",
       "      <td>2015</td>\n",
       "      <td>249942</td>\n",
       "      <td>1262436</td>\n",
       "    </tr>\n",
       "    <tr>\n",
       "      <th>3</th>\n",
       "      <td>2016</td>\n",
       "      <td>253566</td>\n",
       "      <td>1295899</td>\n",
       "    </tr>\n",
       "    <tr>\n",
       "      <th>4</th>\n",
       "      <td>2017</td>\n",
       "      <td>258376</td>\n",
       "      <td>1359901</td>\n",
       "    </tr>\n",
       "  </tbody>\n",
       "</table>\n",
       "</div>"
      ],
      "text/plain": [
       "     연도  계(무임수송인원)    노인인구합\n",
       "0  2013     240321  1148338\n",
       "1  2014     248143  1202453\n",
       "2  2015     249942  1262436\n",
       "3  2016     253566  1295899\n",
       "4  2017     258376  1359901"
      ]
     },
     "execution_count": 165,
     "metadata": {},
     "output_type": "execute_result"
    }
   ],
   "source": [
    "data_result = pd.merge(y_per, frame, on=\"연도\")\n",
    "\n",
    "del data_result['총 수송인원(천명)']\n",
    "del data_result['운수수입(백만원)']\n",
    "del data_result['장애인(천명)']\n",
    "del data_result['노인(천명)']\n",
    "del data_result['유공자(천명)']\n",
    "del data_result['기본요금(원)']\n",
    "\n",
    "data_result"
   ]
  },
  {
   "cell_type": "code",
   "execution_count": 166,
   "metadata": {},
   "outputs": [],
   "source": [
    "data_result.set_index('연도', inplace=True)"
   ]
  },
  {
   "cell_type": "code",
   "execution_count": 167,
   "metadata": {},
   "outputs": [
    {
     "data": {
      "text/plain": [
       "array([[1.       , 0.9798049],\n",
       "       [0.9798049, 1.       ]])"
      ]
     },
     "execution_count": 167,
     "metadata": {},
     "output_type": "execute_result"
    }
   ],
   "source": [
    "import numpy as np\n",
    "np.corrcoef(data_result[\"계(무임수송인원)\"],data_result[\"노인인구합\"])"
   ]
  },
  {
   "cell_type": "markdown",
   "metadata": {},
   "source": [
    "![상관분석1](Corr1.jpg)\n",
    "![상관분석2](Corr2.jpg)"
   ]
  },
  {
   "cell_type": "markdown",
   "metadata": {},
   "source": [
    "- 위의 그림에 의거하여 보면 둘의 상관관계가 0.8 이상이 나왔으므로 매우 높은 상관관계를 가진다고 할수 있다. 따라서 앞으로의 노령인구추이 역시 서울교통공사의 무임승차인구와 연관이 있을것으로 보고 노령인구 추이도 조사해보겠다."
   ]
  },
  {
   "cell_type": "code",
   "execution_count": 170,
   "metadata": {},
   "outputs": [
    {
     "data": {
      "text/html": [
       "<div>\n",
       "<style scoped>\n",
       "    .dataframe tbody tr th:only-of-type {\n",
       "        vertical-align: middle;\n",
       "    }\n",
       "\n",
       "    .dataframe tbody tr th {\n",
       "        vertical-align: top;\n",
       "    }\n",
       "\n",
       "    .dataframe thead th {\n",
       "        text-align: right;\n",
       "    }\n",
       "</style>\n",
       "<table border=\"1\" class=\"dataframe\">\n",
       "  <thead>\n",
       "    <tr style=\"text-align: right;\">\n",
       "      <th></th>\n",
       "      <th>2013</th>\n",
       "      <th>2014</th>\n",
       "      <th>2015</th>\n",
       "      <th>2016</th>\n",
       "      <th>2017</th>\n",
       "      <th>2018</th>\n",
       "      <th>2022</th>\n",
       "      <th>2027</th>\n",
       "    </tr>\n",
       "  </thead>\n",
       "  <tbody>\n",
       "    <tr>\n",
       "      <th>총인구(명)</th>\n",
       "      <td>9990010.0</td>\n",
       "      <td>9975163.0</td>\n",
       "      <td>9941162.0</td>\n",
       "      <td>9852081.0</td>\n",
       "      <td>9776305.0</td>\n",
       "      <td>9721190.0</td>\n",
       "      <td>9596930.0</td>\n",
       "      <td>9505470.0</td>\n",
       "    </tr>\n",
       "    <tr>\n",
       "      <th>인구(명): 0-14세</th>\n",
       "      <td>1267296.0</td>\n",
       "      <td>1227887.0</td>\n",
       "      <td>1188851.0</td>\n",
       "      <td>1141782.0</td>\n",
       "      <td>1108317.0</td>\n",
       "      <td>1084446.0</td>\n",
       "      <td>1026260.0</td>\n",
       "      <td>982114.0</td>\n",
       "    </tr>\n",
       "    <tr>\n",
       "      <th>인구(명): 15-64세</th>\n",
       "      <td>7632707.0</td>\n",
       "      <td>7598429.0</td>\n",
       "      <td>7543476.0</td>\n",
       "      <td>7465668.0</td>\n",
       "      <td>7372498.0</td>\n",
       "      <td>7287716.0</td>\n",
       "      <td>6951165.0</td>\n",
       "      <td>6509845.0</td>\n",
       "    </tr>\n",
       "    <tr>\n",
       "      <th>인구(명): 65세 이상</th>\n",
       "      <td>1090007.0</td>\n",
       "      <td>1148847.0</td>\n",
       "      <td>1208835.0</td>\n",
       "      <td>1244631.0</td>\n",
       "      <td>1295490.0</td>\n",
       "      <td>1349028.0</td>\n",
       "      <td>1619505.0</td>\n",
       "      <td>2013511.0</td>\n",
       "    </tr>\n",
       "    <tr>\n",
       "      <th>- 구성비(%): 0-14세</th>\n",
       "      <td>12.7</td>\n",
       "      <td>12.3</td>\n",
       "      <td>12.0</td>\n",
       "      <td>11.6</td>\n",
       "      <td>11.3</td>\n",
       "      <td>11.2</td>\n",
       "      <td>10.7</td>\n",
       "      <td>10.3</td>\n",
       "    </tr>\n",
       "    <tr>\n",
       "      <th>- 구성비(%): 15-64세</th>\n",
       "      <td>76.4</td>\n",
       "      <td>76.2</td>\n",
       "      <td>75.9</td>\n",
       "      <td>75.8</td>\n",
       "      <td>75.4</td>\n",
       "      <td>75.0</td>\n",
       "      <td>72.4</td>\n",
       "      <td>68.5</td>\n",
       "    </tr>\n",
       "  </tbody>\n",
       "</table>\n",
       "</div>"
      ],
      "text/plain": [
       "                       2013       2014       2015       2016       2017  \\\n",
       "총인구(명)            9990010.0  9975163.0  9941162.0  9852081.0  9776305.0   \n",
       "인구(명): 0-14세      1267296.0  1227887.0  1188851.0  1141782.0  1108317.0   \n",
       "인구(명): 15-64세     7632707.0  7598429.0  7543476.0  7465668.0  7372498.0   \n",
       "인구(명): 65세 이상     1090007.0  1148847.0  1208835.0  1244631.0  1295490.0   \n",
       "- 구성비(%): 0-14세        12.7       12.3       12.0       11.6       11.3   \n",
       "- 구성비(%): 15-64세       76.4       76.2       75.9       75.8       75.4   \n",
       "\n",
       "                       2018       2022       2027  \n",
       "총인구(명)            9721190.0  9596930.0  9505470.0  \n",
       "인구(명): 0-14세      1084446.0  1026260.0   982114.0  \n",
       "인구(명): 15-64세     7287716.0  6951165.0  6509845.0  \n",
       "인구(명): 65세 이상     1349028.0  1619505.0  2013511.0  \n",
       "- 구성비(%): 0-14세        11.2       10.7       10.3  \n",
       "- 구성비(%): 15-64세       75.0       72.4       68.5  "
      ]
     },
     "execution_count": 170,
     "metadata": {},
     "output_type": "execute_result"
    }
   ],
   "source": [
    "Seoul_oldperson=pd.read_excel('Seoul_oldperson.xlsx')\n",
    "Seoul_oldperson.head(6)"
   ]
  },
  {
   "cell_type": "code",
   "execution_count": null,
   "metadata": {},
   "outputs": [],
   "source": [
    "앞으로 10년간 "
   ]
  },
  {
   "cell_type": "code",
   "execution_count": 3,
   "metadata": {},
   "outputs": [
    {
     "ename": "NameError",
     "evalue": "name 'DataFrame' is not defined",
     "output_type": "error",
     "traceback": [
      "\u001b[1;31m---------------------------------------------------------------------------\u001b[0m",
      "\u001b[1;31mNameError\u001b[0m                                 Traceback (most recent call last)",
      "\u001b[1;32m<ipython-input-3-739c5bb91773>\u001b[0m in \u001b[0;36m<module>\u001b[1;34m()\u001b[0m\n\u001b[1;32m----> 1\u001b[1;33m \u001b[0mfr\u001b[0m \u001b[1;33m=\u001b[0m\u001b[0mDataFrame\u001b[0m\u001b[1;33m(\u001b[0m\u001b[0my_pop\u001b[0m\u001b[1;33m)\u001b[0m\u001b[1;33m\u001b[0m\u001b[0m\n\u001b[0m\u001b[0;32m      2\u001b[0m \u001b[0mfr\u001b[0m\u001b[1;33m\u001b[0m\u001b[0m\n",
      "\u001b[1;31mNameError\u001b[0m: name 'DataFrame' is not defined"
     ]
    }
   ],
   "source": [
    "fr =DataFrame(y_pop)\n",
    "fr"
   ]
  },
  {
   "cell_type": "code",
   "execution_count": 4,
   "metadata": {},
   "outputs": [
    {
     "ename": "NameError",
     "evalue": "name 'DataFrame' is not defined",
     "output_type": "error",
     "traceback": [
      "\u001b[1;31m---------------------------------------------------------------------------\u001b[0m",
      "\u001b[1;31mNameError\u001b[0m                                 Traceback (most recent call last)",
      "\u001b[1;32m<ipython-input-4-7a9be3ab24dd>\u001b[0m in \u001b[0;36m<module>\u001b[1;34m()\u001b[0m\n\u001b[1;32m----> 1\u001b[1;33m \u001b[0mfr\u001b[0m \u001b[1;33m=\u001b[0m\u001b[0mDataFrame\u001b[0m\u001b[1;33m(\u001b[0m\u001b[0my_pop\u001b[0m\u001b[1;33m,\u001b[0m \u001b[0mcolumns\u001b[0m \u001b[1;33m=\u001b[0m \u001b[1;33m[\u001b[0m\u001b[1;34m'연도'\u001b[0m\u001b[1;33m,\u001b[0m \u001b[1;34m'총노인인구수'\u001b[0m\u001b[1;33m]\u001b[0m\u001b[1;33m)\u001b[0m\u001b[1;33m\u001b[0m\u001b[0m\n\u001b[0m",
      "\u001b[1;31mNameError\u001b[0m: name 'DataFrame' is not defined"
     ]
    }
   ],
   "source": [
    "fr =DataFrame(y_pop, columns = ['연도', '총노인인구수'])"
   ]
  },
  {
   "cell_type": "code",
   "execution_count": 5,
   "metadata": {},
   "outputs": [
    {
     "ename": "NameError",
     "evalue": "name 'fr' is not defined",
     "output_type": "error",
     "traceback": [
      "\u001b[1;31m---------------------------------------------------------------------------\u001b[0m",
      "\u001b[1;31mNameError\u001b[0m                                 Traceback (most recent call last)",
      "\u001b[1;32m<ipython-input-5-ca4519edfd1d>\u001b[0m in \u001b[0;36m<module>\u001b[1;34m()\u001b[0m\n\u001b[1;32m----> 1\u001b[1;33m \u001b[0mfr\u001b[0m\u001b[1;33m.\u001b[0m\u001b[0mhead\u001b[0m\u001b[1;33m(\u001b[0m\u001b[1;33m)\u001b[0m\u001b[1;33m\u001b[0m\u001b[0m\n\u001b[0m",
      "\u001b[1;31mNameError\u001b[0m: name 'fr' is not defined"
     ]
    }
   ],
   "source": [
    "fr.head()"
   ]
  },
  {
   "cell_type": "code",
   "execution_count": 6,
   "metadata": {},
   "outputs": [
    {
     "ename": "NameError",
     "evalue": "name 'plt' is not defined",
     "output_type": "error",
     "traceback": [
      "\u001b[1;31m---------------------------------------------------------------------------\u001b[0m",
      "\u001b[1;31mNameError\u001b[0m                                 Traceback (most recent call last)",
      "\u001b[1;32m<ipython-input-6-0ae0161adf64>\u001b[0m in \u001b[0;36m<module>\u001b[1;34m()\u001b[0m\n\u001b[1;32m----> 1\u001b[1;33m \u001b[0mplt\u001b[0m\u001b[1;33m.\u001b[0m\u001b[0mfigure\u001b[0m\u001b[1;33m(\u001b[0m\u001b[0mfigsize\u001b[0m\u001b[1;33m=\u001b[0m\u001b[1;33m(\u001b[0m\u001b[1;36m10\u001b[0m\u001b[1;33m,\u001b[0m\u001b[1;36m4\u001b[0m\u001b[1;33m)\u001b[0m\u001b[1;33m)\u001b[0m\u001b[1;33m\u001b[0m\u001b[0m\n\u001b[0m\u001b[0;32m      2\u001b[0m \u001b[0mplt\u001b[0m\u001b[1;33m.\u001b[0m\u001b[0mplot\u001b[0m\u001b[1;33m(\u001b[0m\u001b[0mfr\u001b[0m\u001b[1;33m.\u001b[0m\u001b[0m연도\u001b[0m\u001b[1;33m,\u001b[0m \u001b[0mfr\u001b[0m\u001b[1;33m.\u001b[0m\u001b[0m총노인인구수\u001b[0m\u001b[1;33m,\u001b[0m\u001b[1;34m'g'\u001b[0m\u001b[1;33m,\u001b[0m \u001b[0mlabel\u001b[0m\u001b[1;33m=\u001b[0m\u001b[1;34m'총노인인구수'\u001b[0m\u001b[1;33m)\u001b[0m\u001b[1;33m\u001b[0m\u001b[0m\n\u001b[0;32m      3\u001b[0m \u001b[0mplt\u001b[0m\u001b[1;33m.\u001b[0m\u001b[0mxlabel\u001b[0m\u001b[1;33m(\u001b[0m\u001b[1;34m'연도'\u001b[0m\u001b[1;33m)\u001b[0m\u001b[1;33m\u001b[0m\u001b[0m\n\u001b[0;32m      4\u001b[0m \u001b[0mplt\u001b[0m\u001b[1;33m.\u001b[0m\u001b[0mylabel\u001b[0m\u001b[1;33m(\u001b[0m\u001b[1;34m'총노인인구수'\u001b[0m\u001b[1;33m)\u001b[0m\u001b[1;33m\u001b[0m\u001b[0m\n\u001b[0;32m      5\u001b[0m \u001b[0mplt\u001b[0m\u001b[1;33m.\u001b[0m\u001b[0mtitle\u001b[0m\u001b[1;33m(\u001b[0m\u001b[1;34m'연도별 총노인인구수 변화'\u001b[0m\u001b[1;33m)\u001b[0m\u001b[1;33m\u001b[0m\u001b[0m\n",
      "\u001b[1;31mNameError\u001b[0m: name 'plt' is not defined"
     ]
    }
   ],
   "source": [
    "plt.figure(figsize=(10,4))\n",
    "plt.plot(fr.연도, fr.총노인인구수,'g', label='총노인인구수')\n",
    "plt.xlabel('연도')\n",
    "plt.ylabel('총노인인구수')\n",
    "plt.title('연도별 총노인인구수 변화')\n",
    "plt.grid()\n",
    "plt.legend()\n",
    "plt.xlim()\n",
    "plt.ylim(1000000,1400000)\n",
    "plt.show()"
   ]
  },
  {
   "cell_type": "code",
   "execution_count": 7,
   "metadata": {},
   "outputs": [
    {
     "ename": "NameError",
     "evalue": "name 'pd' is not defined",
     "output_type": "error",
     "traceback": [
      "\u001b[1;31m---------------------------------------------------------------------------\u001b[0m",
      "\u001b[1;31mNameError\u001b[0m                                 Traceback (most recent call last)",
      "\u001b[1;32m<ipython-input-7-5fa51659c69b>\u001b[0m in \u001b[0;36m<module>\u001b[1;34m()\u001b[0m\n\u001b[0;32m      1\u001b[0m \u001b[1;31m#이제 엑셀에서 작성한 민감도 분석표를 가져오도록 하자.\u001b[0m\u001b[1;33m\u001b[0m\u001b[1;33m\u001b[0m\u001b[0m\n\u001b[1;32m----> 2\u001b[1;33m Sensitivity=pd.read_excel('Sensitibity_Analysis_brief.xlsx', \n\u001b[0m\u001b[0;32m      3\u001b[0m                    \u001b[0musecols\u001b[0m\u001b[1;33m=\u001b[0m\u001b[1;34m\"A:D\"\u001b[0m\u001b[1;33m,\u001b[0m\u001b[1;33m\u001b[0m\u001b[0m\n\u001b[0;32m      4\u001b[0m                    convert_float = True)\n\u001b[0;32m      5\u001b[0m \u001b[0mSensitivity\u001b[0m\u001b[1;33m\u001b[0m\u001b[0m\n",
      "\u001b[1;31mNameError\u001b[0m: name 'pd' is not defined"
     ]
    }
   ],
   "source": [
    "#이제 엑셀에서 작성한 민감도 분석표를 가져오도록 하자.\n",
    "Sensitivity=pd.read_excel('Sensitibity_Analysis_brief.xlsx', \n",
    "                   usecols=\"A:D\",\n",
    "                   convert_float = True)\n",
    "Sensitivity"
   ]
  },
  {
   "cell_type": "code",
   "execution_count": 8,
   "metadata": {},
   "outputs": [
    {
     "ename": "NameError",
     "evalue": "name 'Sensitivity' is not defined",
     "output_type": "error",
     "traceback": [
      "\u001b[1;31m---------------------------------------------------------------------------\u001b[0m",
      "\u001b[1;31mNameError\u001b[0m                                 Traceback (most recent call last)",
      "\u001b[1;32m<ipython-input-8-00c1f5a53108>\u001b[0m in \u001b[0;36m<module>\u001b[1;34m()\u001b[0m\n\u001b[1;32m----> 1\u001b[1;33m \u001b[0mdf\u001b[0m\u001b[1;33m=\u001b[0m\u001b[0mSensitivity\u001b[0m\u001b[1;33m\u001b[0m\u001b[0m\n\u001b[0m",
      "\u001b[1;31mNameError\u001b[0m: name 'Sensitivity' is not defined"
     ]
    }
   ],
   "source": [
    "df=Sensitivity"
   ]
  },
  {
   "cell_type": "code",
   "execution_count": 9,
   "metadata": {},
   "outputs": [
    {
     "ename": "NameError",
     "evalue": "name 'df' is not defined",
     "output_type": "error",
     "traceback": [
      "\u001b[1;31m---------------------------------------------------------------------------\u001b[0m",
      "\u001b[1;31mNameError\u001b[0m                                 Traceback (most recent call last)",
      "\u001b[1;32m<ipython-input-9-13a9cbcaa1fd>\u001b[0m in \u001b[0;36m<module>\u001b[1;34m()\u001b[0m\n\u001b[0;32m      1\u001b[0m \u001b[1;31m#깔끔하게 보기위해 NaN 값을 제거해보도록 하자.\u001b[0m\u001b[1;33m\u001b[0m\u001b[1;33m\u001b[0m\u001b[0m\n\u001b[1;32m----> 2\u001b[1;33m \u001b[0mdf\u001b[0m\u001b[1;33m.\u001b[0m\u001b[0mfillna\u001b[0m\u001b[1;33m(\u001b[0m\u001b[0mvalue\u001b[0m\u001b[1;33m=\u001b[0m\u001b[1;34m\"\"\u001b[0m\u001b[1;33m)\u001b[0m\u001b[1;33m\u001b[0m\u001b[0m\n\u001b[0m\u001b[0;32m      3\u001b[0m \u001b[0mdf_S\u001b[0m\u001b[1;33m=\u001b[0m\u001b[0mdf\u001b[0m\u001b[1;33m.\u001b[0m\u001b[0mfillna\u001b[0m\u001b[1;33m(\u001b[0m\u001b[0mvalue\u001b[0m\u001b[1;33m=\u001b[0m\u001b[1;34m\"\"\u001b[0m\u001b[1;33m)\u001b[0m\u001b[1;33m\u001b[0m\u001b[0m\n\u001b[0;32m      4\u001b[0m \u001b[0mdf_S\u001b[0m\u001b[1;33m[\u001b[0m\u001b[1;33m:\u001b[0m\u001b[1;36m1\u001b[0m\u001b[1;33m]\u001b[0m\u001b[1;33m\u001b[0m\u001b[0m\n",
      "\u001b[1;31mNameError\u001b[0m: name 'df' is not defined"
     ]
    }
   ],
   "source": [
    "#깔끔하게 보기위해 NaN 값을 제거해보도록 하자.\n",
    "df.fillna(value=\"\")\n",
    "df_S=df.fillna(value=\"\")\n",
    "df_S[:1]"
   ]
  },
  {
   "cell_type": "code",
   "execution_count": null,
   "metadata": {},
   "outputs": [],
   "source": [
    "df_S2=df_S[2:]\n",
    "df_S2"
   ]
  },
  {
   "cell_type": "code",
   "execution_count": null,
   "metadata": {},
   "outputs": [],
   "source": [
    "#여기서 민감도분석부분만 따로 엑셀로 저장해보자\n",
    "df_S2.to_excel('./test.xlsx',\n",
    "                sheet_name='Sheet1',\n",
    "                header=True,\n",
    "                startrow=1,\n",
    "                startcol=0,\n",
    "                engine=None,\n",
    "                merge_cells=True,\n",
    "                encoding=None,\n",
    "                inf_rep='inf',\n",
    "                verbose=True,\n",
    "                freeze_panes=None)"
   ]
  },
  {
   "cell_type": "code",
   "execution_count": null,
   "metadata": {},
   "outputs": [],
   "source": [
    "Analysis=pd.read_excel('test.xlsx',\n",
    "                   header =2,\n",
    "                   index_rows=2,\n",
    "                   usecols=\"B:D\",\n",
    "                   convert_float = True)"
   ]
  },
  {
   "cell_type": "code",
   "execution_count": null,
   "metadata": {},
   "outputs": [],
   "source": [
    "Analysis"
   ]
  },
  {
   "cell_type": "code",
   "execution_count": null,
   "metadata": {},
   "outputs": [],
   "source": [
    "plt.figure(figsize=(20,4))\n",
    "plt.plot(Analysis.연령, Analysis.손실액,'r', label='손실액')\n",
    "plt.xlabel('연령제한')\n",
    "plt.ylabel('손실액')\n",
    "plt.title('나이제한에 따른 손실액 변화추이')\n",
    "plt.grid()\n",
    "plt.legend()\n",
    "plt.xlim()\n",
    "plt.ylim(50000000000,300000000000)\n",
    "plt.annotate('목표 손실액',xy=(\"73세이상\",1.293021e+11),xytext=(10,2.293021e+11),arrowprops={'color':'green'})\n",
    "plt.show()"
   ]
  },
  {
   "cell_type": "markdown",
   "metadata": {},
   "source": [
    "- 여기서의 결과 값은 기존의 'y_pop' 데이터에서 연령별 정보에 '인당 이용횟수'를 곱해서 '총 이용횟수'에서 빼면서, 그 연령 이후의 이용횟수 및 추정손실치를 계산할 수 있다."
   ]
  },
  {
   "cell_type": "markdown",
   "metadata": {},
   "source": [
    "### 결론\n",
    "- 우리조 추정손실치의 목표치는 기존 손실의 50%이므로 2600억의 반인 1300억에 가장 가까운 \"73세 이상\"으로 연령 제한을 올려야 하는 것을 확인할 수 있다."
   ]
  },
  {
   "cell_type": "code",
   "execution_count": null,
   "metadata": {},
   "outputs": [],
   "source": []
  }
 ],
 "metadata": {
  "kernelspec": {
   "display_name": "Python 3",
   "language": "python",
   "name": "python3"
  },
  "language_info": {
   "codemirror_mode": {
    "name": "ipython",
    "version": 3
   },
   "file_extension": ".py",
   "mimetype": "text/x-python",
   "name": "python",
   "nbconvert_exporter": "python",
   "pygments_lexer": "ipython3",
   "version": "3.6.4"
  }
 },
 "nbformat": 4,
 "nbformat_minor": 2
}
